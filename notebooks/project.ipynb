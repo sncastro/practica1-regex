{
 "cells": [
  {
   "cell_type": "code",
   "metadata": {
    "collapsed": true,
    "ExecuteTime": {
     "end_time": "2025-09-07T15:13:29.629830Z",
     "start_time": "2025-09-07T15:13:29.581767Z"
    }
   },
   "source": [
    "import re\n",
    "\n",
    "filename = '../data/baby1990.html'\n",
    "foo = 'Esto es un ejemplo para guardar mis cambios en GitHub'\n",
    "\n",
    "foo"
   ],
   "outputs": [
    {
     "data": {
      "text/plain": [
       "'Esto es un ejemplo para guardar mis cambios en GitHub'"
      ]
     },
     "execution_count": 1,
     "metadata": {},
     "output_type": "execute_result"
    }
   ],
   "execution_count": 1
  }
 ],
 "metadata": {
  "kernelspec": {
   "display_name": "Python 3",
   "language": "python",
   "name": "python3"
  },
  "language_info": {
   "codemirror_mode": {
    "name": "ipython",
    "version": 2
   },
   "file_extension": ".py",
   "mimetype": "text/x-python",
   "name": "python",
   "nbconvert_exporter": "python",
   "pygments_lexer": "ipython2",
   "version": "2.7.6"
  }
 },
 "nbformat": 4,
 "nbformat_minor": 0
}
